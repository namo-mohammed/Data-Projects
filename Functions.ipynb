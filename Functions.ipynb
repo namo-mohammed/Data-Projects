{
  "nbformat": 4,
  "nbformat_minor": 0,
  "metadata": {
    "colab": {
      "provenance": [],
      "authorship_tag": "ABX9TyOgEsD0bLmKyOsS8De39sMX",
      "include_colab_link": true
    },
    "kernelspec": {
      "name": "ir",
      "display_name": "R"
    },
    "language_info": {
      "name": "R"
    }
  },
  "cells": [
    {
      "cell_type": "markdown",
      "metadata": {
        "id": "view-in-github",
        "colab_type": "text"
      },
      "source": [
        "<a href=\"https://colab.research.google.com/github/namo-mohammed/Data-Projects/blob/main/Functions.ipynb\" target=\"_parent\"><img src=\"https://colab.research.google.com/assets/colab-badge.svg\" alt=\"Open In Colab\"/></a>"
      ]
    },
    {
      "cell_type": "code",
      "execution_count": null,
      "metadata": {
        "id": "Bsv51PjxH3R4"
      },
      "outputs": [],
      "source": [
        "# Data Frame\n",
        "df <- data.frame(\n",
        "  Item = c(\"Laptop\", \"Smartphone\", \"Headphones\", \"Smartwatch\", \"Tablet\"),\n",
        "  Price = c(1000, 800, 200, 250, 500)\n",
        ")\n",
        "\n",
        "# Print the Data Frame\n",
        "print(\"Data Frame:\")\n",
        "print(df)\n",
        "\n",
        "# Function to Sum the Prices\n",
        "sum_prices <- function(data) {\n",
        "  total <- sum(data$Price)\n",
        "  return(total)\n",
        "}\n",
        "\n",
        "# Function to Calculate Total Price with Tax\n",
        "total_with_tax <- function(data, tax_rate) {\n",
        "  total <- sum_prices(data)\n",
        "  total_tax <- total * tax_rate\n",
        "  total_with_tax <- total + total_tax\n",
        "  return(total_with_tax)\n",
        "}\n",
        "\n",
        "# Function to Apply a 15% Discount\n",
        "apply_discount <- function(total_price_with_tax, discount_rate = 0.15) {\n",
        "  discount_amount <- total_price_with_tax * discount_rate\n",
        "  total_after_discount <- total_price_with_tax - discount_amount\n",
        "  return(total_after_discount)\n",
        "}\n",
        "\n",
        "# Prompt the User for a Tax Rate\n",
        "user_input <- readline(prompt = \"Enter the tax rate (as a decimal, e.g., 0.20 for 20%): \")\n",
        "\n",
        "# Set the Tax Rate to the User's Input or Default to 0.15 if Input is Empty\n",
        "if (user_input == \"\") {\n",
        "  tax_rate <- 0.15\n",
        "} else {\n",
        "  tax_rate <- as.numeric(user_input)\n",
        "}\n",
        "\n",
        "# Call the Functions and Print the Results\n",
        "total_price <- sum_prices(df)\n",
        "cat(\"Total Price: £\", total_price, \"\\n\")\n",
        "\n",
        "total_price_with_tax <- total_with_tax(df, tax_rate)\n",
        "cat(\"Total Price with\", tax_rate * 100, \"% Tax: £\", total_price_with_tax, \"\\n\")\n",
        "\n",
        "total_price_after_discount <- apply_discount(total_price_with_tax)\n",
        "cat(\"Total Price after 15% Discount: £\", total_price_after_discount, \"\\n\")"
      ]
    }
  ]
}